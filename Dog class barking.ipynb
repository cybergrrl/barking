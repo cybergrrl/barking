{
 "cells": [
  {
   "cell_type": "code",
   "execution_count": 50,
   "metadata": {},
   "outputs": [],
   "source": [
    "class Dog():\n",
    "    \n",
    "    species = \"mammal\"\n",
    "    \n",
    "    def __init__(self, breed, name, spots):\n",
    "        \n",
    "        self.breed = breed\n",
    "        self.name = name\n",
    "        self.spots = spots\n",
    "        \n",
    "    def bark(self, number):\n",
    "        if self.breed == \"spitz\":\n",
    "            print(\"Woof! My name is {}! \".format(self.name) + \"Woof\" * number * 10 + \"!\")\n",
    "        elif self.breed == \"bulldog\":\n",
    "            print(\"I do not bark, sir. No. I'm ready for my nap.\")\n",
    "        elif self.breed == \"basenji\":\n",
    "            print(\"My name is {}. \".format(self.name) + \"Yodel-Ay-Eeee-Ooooooooo-\" * number + \"!\")\n",
    "        else:\n",
    "            print(\"My name is {}. \".format(self.name) + \"Woof\" * number)"
   ]
  },
  {
   "cell_type": "code",
   "execution_count": 52,
   "metadata": {},
   "outputs": [
    {
     "name": "stdout",
     "output_type": "stream",
     "text": [
      "Woof! My name is Teddy! WoofWoofWoofWoofWoofWoofWoofWoofWoofWoofWoofWoofWoofWoofWoofWoofWoofWoofWoofWoof!\n"
     ]
    }
   ],
   "source": [
    "mydog1 = Dog(\"spitz\", \"Teddy\", False)\n",
    "mydog1.bark(2)"
   ]
  },
  {
   "cell_type": "code",
   "execution_count": 53,
   "metadata": {},
   "outputs": [
    {
     "name": "stdout",
     "output_type": "stream",
     "text": [
      "My name is Loni. WoofWoofWoofWoofWoof\n"
     ]
    }
   ],
   "source": [
    "mydog2 = Dog(\"lab\", \"Loni\", True)\n",
    "mydog2.bark(5)"
   ]
  },
  {
   "cell_type": "code",
   "execution_count": 55,
   "metadata": {},
   "outputs": [
    {
     "name": "stdout",
     "output_type": "stream",
     "text": [
      "I do not bark, sir. No. I'm ready for my nap.\n"
     ]
    }
   ],
   "source": [
    "mydog3 = Dog(\"bulldog\", \"Danina\", False)\n",
    "mydog3.bark(9)"
   ]
  },
  {
   "cell_type": "code",
   "execution_count": 57,
   "metadata": {},
   "outputs": [
    {
     "name": "stdout",
     "output_type": "stream",
     "text": [
      "My name is Zara. Yodel-Ay-Eeee-Ooooooooo-Yodel-Ay-Eeee-Ooooooooo-Yodel-Ay-Eeee-Ooooooooo-!\n"
     ]
    }
   ],
   "source": [
    "mydog4 = Dog(\"basenji\", \"Zara\", False)\n",
    "mydog4.bark(3)"
   ]
  }
 ],
 "metadata": {
  "kernelspec": {
   "display_name": "Python 3",
   "language": "python",
   "name": "python3"
  },
  "language_info": {
   "codemirror_mode": {
    "name": "ipython",
    "version": 3
   },
   "file_extension": ".py",
   "mimetype": "text/x-python",
   "name": "python",
   "nbconvert_exporter": "python",
   "pygments_lexer": "ipython3",
   "version": "3.7.1"
  }
 },
 "nbformat": 4,
 "nbformat_minor": 2
}
